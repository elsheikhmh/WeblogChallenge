{
 "cells": [
  {
   "cell_type": "code",
   "execution_count": 1,
   "metadata": {
    "collapsed": true
   },
   "outputs": [],
   "source": [
    "%matplotlib inline\n",
    "\n",
    "import pandas as pd, numpy as np, json, datetime, time, random, joblib, tqdm, csv\n",
    "import matplotlib.pyplot as plt\n",
    "import seaborn as sns\n",
    "import hashlib\n",
    "import csv\n",
    "import datetime"
   ]
  },
  {
   "cell_type": "code",
   "execution_count": 2,
   "metadata": {
    "collapsed": true
   },
   "outputs": [],
   "source": [
    "FILE_LOCATION = './data/2015_07_22_mktplace_shop_web_log_sample.log'"
   ]
  },
  {
   "cell_type": "markdown",
   "metadata": {},
   "source": [
    "#Some Analysis in Pandas before we switch to PySpark#"
   ]
  },
  {
   "cell_type": "code",
   "execution_count": 3,
   "metadata": {
    "collapsed": false
   },
   "outputs": [
    {
     "name": "stderr",
     "output_type": "stream",
     "text": [
      "Skipping line 491258: expected 15 fields, saw 16\n",
      "Skipping line 491610: expected 15 fields, saw 16\n",
      "Skipping line 491949: expected 15 fields, saw 16\n",
      "Skipping line 492270: expected 15 fields, saw 16\n",
      "Skipping line 492551: expected 15 fields, saw 16\n",
      "Skipping line 492802: expected 15 fields, saw 16\n",
      "Skipping line 493232: expected 15 fields, saw 16\n",
      "Skipping line 496262: expected 15 fields, saw 16\n",
      "Skipping line 496279: expected 15 fields, saw 16\n",
      "Skipping line 496682: expected 15 fields, saw 16\n",
      "Skipping line 496709: expected 15 fields, saw 16\n",
      "Skipping line 496965: expected 15 fields, saw 16\n",
      "Skipping line 497004: expected 15 fields, saw 16\n",
      "Skipping line 497230: expected 15 fields, saw 16\n",
      "Skipping line 497257: expected 15 fields, saw 16\n",
      "Skipping line 497726: expected 15 fields, saw 16\n",
      "Skipping line 497767: expected 15 fields, saw 16\n",
      "Skipping line 497964: expected 15 fields, saw 16\n",
      "Skipping line 497987: expected 15 fields, saw 16\n",
      "\n",
      "Skipping line 547659: expected 15 fields, saw 16\n",
      "Skipping line 553004: expected 15 fields, saw 16\n",
      "Skipping line 565091: expected 15 fields, saw 16\n"
     ]
    },
    {
     "name": "stdout",
     "output_type": "stream",
     "text": [
      "(1158478, 23)\n",
      "CPU times: user 26.1 s, sys: 1.31 s, total: 27.4 s\n",
      "Wall time: 27.3 s\n"
     ]
    },
    {
     "name": "stderr",
     "output_type": "stream",
     "text": [
      "\n"
     ]
    }
   ],
   "source": [
    "%%time\n",
    "\n",
    "# Read the CSV file\n",
    "df = pd.read_csv(FILE_LOCATION, sep=' ', header=None, na_values=['-', ''],\n",
    "                 error_bad_lines=False, warn_bad_lines=True)\n",
    "\n",
    "# Assign column names\n",
    "column_names = 'timestamp elb client:port backend:port request_processing_time backend_processing_time response_processing_time elb_status_code backend_status_code received_bytes sent_bytes request user_agent ssl_cipher ssl_protocol'\n",
    "df.columns = column_names.split(' ')\n",
    "\n",
    "# Adjust data format, index\n",
    "df.timestamp = pd.to_datetime(df.timestamp)\n",
    "df.sort_values(by='timestamp', inplace=True)\n",
    "df.index = range(df.shape[0])\n",
    "\n",
    "# Extract client IP & port\n",
    "client_port = df['client:port'].str.split(':')\n",
    "df['client'] = client_port.map(lambda x: x[0] if isinstance(x, list) else np.nan)\n",
    "df['cport'] = client_port.map(lambda x: x[1] if isinstance(x, list) else np.nan)\n",
    "\n",
    "# Extract backend IP & port\n",
    "backend_port = df['backend:port'].str.split(':')\n",
    "df['backend'] = backend_port.map(lambda x: x[0] if isinstance(x, list) else np.nan)\n",
    "df['bport'] = backend_port.map(lambda x: x[1] if isinstance(x, list) else np.nan)    \n",
    "\n",
    "# Extract the individual fields of the HTTP request \n",
    "request_data = df.request.str.split(' ')\n",
    "df['method'] = request_data.map(lambda x: x[0])\n",
    "df['url'] = request_data.map(lambda x: x[1])\n",
    "df['protocol'] = request_data.map(lambda x: x[2])\n",
    "\n",
    "# Hash the user-agent string\n",
    "df['agent_hash'] = df.user_agent.map(lambda x: hashlib.md5(x).hexdigest() if isinstance(x, str) else np.nan)\n",
    "\n",
    "print df.shape"
   ]
  },
  {
   "cell_type": "code",
   "execution_count": 4,
   "metadata": {
    "collapsed": false,
    "scrolled": false
   },
   "outputs": [
    {
     "data": {
      "text/html": [
       "<div>\n",
       "<table border=\"1\" class=\"dataframe\">\n",
       "  <thead>\n",
       "    <tr style=\"text-align: right;\">\n",
       "      <th></th>\n",
       "      <th>timestamp</th>\n",
       "      <th>elb</th>\n",
       "      <th>client:port</th>\n",
       "      <th>backend:port</th>\n",
       "      <th>request_processing_time</th>\n",
       "      <th>backend_processing_time</th>\n",
       "      <th>response_processing_time</th>\n",
       "      <th>elb_status_code</th>\n",
       "      <th>backend_status_code</th>\n",
       "      <th>received_bytes</th>\n",
       "      <th>...</th>\n",
       "      <th>ssl_cipher</th>\n",
       "      <th>ssl_protocol</th>\n",
       "      <th>client</th>\n",
       "      <th>cport</th>\n",
       "      <th>backend</th>\n",
       "      <th>bport</th>\n",
       "      <th>method</th>\n",
       "      <th>url</th>\n",
       "      <th>protocol</th>\n",
       "      <th>agent_hash</th>\n",
       "    </tr>\n",
       "  </thead>\n",
       "  <tbody>\n",
       "    <tr>\n",
       "      <th>0</th>\n",
       "      <td>2015-07-22 02:40:06.499174</td>\n",
       "      <td>marketpalce-shop</td>\n",
       "      <td>106.51.235.133:1813</td>\n",
       "      <td>10.0.6.158:80</td>\n",
       "      <td>0.000020</td>\n",
       "      <td>0.274619</td>\n",
       "      <td>0.000022</td>\n",
       "      <td>200</td>\n",
       "      <td>200</td>\n",
       "      <td>0</td>\n",
       "      <td>...</td>\n",
       "      <td>ECDHE-RSA-AES128-GCM-SHA256</td>\n",
       "      <td>TLSv1.2</td>\n",
       "      <td>106.51.235.133</td>\n",
       "      <td>1813</td>\n",
       "      <td>10.0.6.158</td>\n",
       "      <td>80</td>\n",
       "      <td>GET</td>\n",
       "      <td>https://paytm.com:443/shop/wallet/txnhistory?p...</td>\n",
       "      <td>HTTP/1.1</td>\n",
       "      <td>376956767818a23f320b0ffbb60a9092</td>\n",
       "    </tr>\n",
       "    <tr>\n",
       "      <th>1</th>\n",
       "      <td>2015-07-22 02:40:06.632589</td>\n",
       "      <td>marketpalce-shop</td>\n",
       "      <td>115.250.16.146:63523</td>\n",
       "      <td>10.0.4.227:80</td>\n",
       "      <td>0.000023</td>\n",
       "      <td>0.258738</td>\n",
       "      <td>0.000021</td>\n",
       "      <td>200</td>\n",
       "      <td>200</td>\n",
       "      <td>0</td>\n",
       "      <td>...</td>\n",
       "      <td>ECDHE-RSA-AES128-GCM-SHA256</td>\n",
       "      <td>TLSv1.2</td>\n",
       "      <td>115.250.16.146</td>\n",
       "      <td>63523</td>\n",
       "      <td>10.0.4.227</td>\n",
       "      <td>80</td>\n",
       "      <td>GET</td>\n",
       "      <td>https://paytm.com:443/shop/wallet/balance?chan...</td>\n",
       "      <td>HTTP/1.1</td>\n",
       "      <td>2c9343e055859b90ac580d7b16856af0</td>\n",
       "    </tr>\n",
       "    <tr>\n",
       "      <th>2</th>\n",
       "      <td>2015-07-22 02:40:06.633226</td>\n",
       "      <td>marketpalce-shop</td>\n",
       "      <td>106.51.235.133:1814</td>\n",
       "      <td>10.0.6.108:80</td>\n",
       "      <td>0.000021</td>\n",
       "      <td>0.066167</td>\n",
       "      <td>0.000020</td>\n",
       "      <td>200</td>\n",
       "      <td>200</td>\n",
       "      <td>0</td>\n",
       "      <td>...</td>\n",
       "      <td>ECDHE-RSA-AES128-GCM-SHA256</td>\n",
       "      <td>TLSv1.2</td>\n",
       "      <td>106.51.235.133</td>\n",
       "      <td>1814</td>\n",
       "      <td>10.0.6.108</td>\n",
       "      <td>80</td>\n",
       "      <td>GET</td>\n",
       "      <td>https://paytm.com:443/shop/wallet/balance?chan...</td>\n",
       "      <td>HTTP/1.1</td>\n",
       "      <td>376956767818a23f320b0ffbb60a9092</td>\n",
       "    </tr>\n",
       "    <tr>\n",
       "      <th>3</th>\n",
       "      <td>2015-07-22 02:40:06.700160</td>\n",
       "      <td>marketpalce-shop</td>\n",
       "      <td>52.74.219.71:43898</td>\n",
       "      <td>10.0.4.225:80</td>\n",
       "      <td>0.000020</td>\n",
       "      <td>0.004901</td>\n",
       "      <td>0.000023</td>\n",
       "      <td>200</td>\n",
       "      <td>200</td>\n",
       "      <td>0</td>\n",
       "      <td>...</td>\n",
       "      <td>ECDHE-RSA-AES128-GCM-SHA256</td>\n",
       "      <td>TLSv1.2</td>\n",
       "      <td>52.74.219.71</td>\n",
       "      <td>43898</td>\n",
       "      <td>10.0.4.225</td>\n",
       "      <td>80</td>\n",
       "      <td>GET</td>\n",
       "      <td>https://paytm.com:443/papi/v1/promosearch/prod...</td>\n",
       "      <td>HTTP/1.0</td>\n",
       "      <td>NaN</td>\n",
       "    </tr>\n",
       "    <tr>\n",
       "      <th>4</th>\n",
       "      <td>2015-07-22 02:40:06.734226</td>\n",
       "      <td>marketpalce-shop</td>\n",
       "      <td>27.97.124.172:31421</td>\n",
       "      <td>10.0.6.199:80</td>\n",
       "      <td>0.000024</td>\n",
       "      <td>0.004168</td>\n",
       "      <td>0.000024</td>\n",
       "      <td>200</td>\n",
       "      <td>200</td>\n",
       "      <td>0</td>\n",
       "      <td>...</td>\n",
       "      <td>ECDHE-RSA-AES128-GCM-SHA256</td>\n",
       "      <td>TLSv1.2</td>\n",
       "      <td>27.97.124.172</td>\n",
       "      <td>31421</td>\n",
       "      <td>10.0.6.199</td>\n",
       "      <td>80</td>\n",
       "      <td>GET</td>\n",
       "      <td>https://paytm.com:443/coupons</td>\n",
       "      <td>HTTP/1.1</td>\n",
       "      <td>1549acedb4c775b87d6d4ed430be645d</td>\n",
       "    </tr>\n",
       "  </tbody>\n",
       "</table>\n",
       "<p>5 rows × 23 columns</p>\n",
       "</div>"
      ],
      "text/plain": [
       "                   timestamp               elb           client:port  \\\n",
       "0 2015-07-22 02:40:06.499174  marketpalce-shop   106.51.235.133:1813   \n",
       "1 2015-07-22 02:40:06.632589  marketpalce-shop  115.250.16.146:63523   \n",
       "2 2015-07-22 02:40:06.633226  marketpalce-shop   106.51.235.133:1814   \n",
       "3 2015-07-22 02:40:06.700160  marketpalce-shop    52.74.219.71:43898   \n",
       "4 2015-07-22 02:40:06.734226  marketpalce-shop   27.97.124.172:31421   \n",
       "\n",
       "    backend:port  request_processing_time  backend_processing_time  \\\n",
       "0  10.0.6.158:80                 0.000020                 0.274619   \n",
       "1  10.0.4.227:80                 0.000023                 0.258738   \n",
       "2  10.0.6.108:80                 0.000021                 0.066167   \n",
       "3  10.0.4.225:80                 0.000020                 0.004901   \n",
       "4  10.0.6.199:80                 0.000024                 0.004168   \n",
       "\n",
       "   response_processing_time  elb_status_code  backend_status_code  \\\n",
       "0                  0.000022              200                  200   \n",
       "1                  0.000021              200                  200   \n",
       "2                  0.000020              200                  200   \n",
       "3                  0.000023              200                  200   \n",
       "4                  0.000024              200                  200   \n",
       "\n",
       "   received_bytes                ...                 \\\n",
       "0               0                ...                  \n",
       "1               0                ...                  \n",
       "2               0                ...                  \n",
       "3               0                ...                  \n",
       "4               0                ...                  \n",
       "\n",
       "                    ssl_cipher ssl_protocol          client  cport  \\\n",
       "0  ECDHE-RSA-AES128-GCM-SHA256      TLSv1.2  106.51.235.133   1813   \n",
       "1  ECDHE-RSA-AES128-GCM-SHA256      TLSv1.2  115.250.16.146  63523   \n",
       "2  ECDHE-RSA-AES128-GCM-SHA256      TLSv1.2  106.51.235.133   1814   \n",
       "3  ECDHE-RSA-AES128-GCM-SHA256      TLSv1.2    52.74.219.71  43898   \n",
       "4  ECDHE-RSA-AES128-GCM-SHA256      TLSv1.2   27.97.124.172  31421   \n",
       "\n",
       "      backend bport method                                                url  \\\n",
       "0  10.0.6.158    80    GET  https://paytm.com:443/shop/wallet/txnhistory?p...   \n",
       "1  10.0.4.227    80    GET  https://paytm.com:443/shop/wallet/balance?chan...   \n",
       "2  10.0.6.108    80    GET  https://paytm.com:443/shop/wallet/balance?chan...   \n",
       "3  10.0.4.225    80    GET  https://paytm.com:443/papi/v1/promosearch/prod...   \n",
       "4  10.0.6.199    80    GET                      https://paytm.com:443/coupons   \n",
       "\n",
       "   protocol                        agent_hash  \n",
       "0  HTTP/1.1  376956767818a23f320b0ffbb60a9092  \n",
       "1  HTTP/1.1  2c9343e055859b90ac580d7b16856af0  \n",
       "2  HTTP/1.1  376956767818a23f320b0ffbb60a9092  \n",
       "3  HTTP/1.0                               NaN  \n",
       "4  HTTP/1.1  1549acedb4c775b87d6d4ed430be645d  \n",
       "\n",
       "[5 rows x 23 columns]"
      ]
     },
     "execution_count": 4,
     "metadata": {},
     "output_type": "execute_result"
    }
   ],
   "source": [
    "df.head()"
   ]
  },
  {
   "cell_type": "markdown",
   "metadata": {},
   "source": [
    "##Peak into of the data##"
   ]
  },
  {
   "cell_type": "code",
   "execution_count": 5,
   "metadata": {
    "collapsed": false
   },
   "outputs": [
    {
     "data": {
      "text/plain": [
       "timestamp                       0\n",
       "elb                             0\n",
       "client:port                     0\n",
       "backend:port                  162\n",
       "request_processing_time         0\n",
       "backend_processing_time         0\n",
       "response_processing_time        0\n",
       "elb_status_code                 0\n",
       "backend_status_code             0\n",
       "received_bytes                  0\n",
       "sent_bytes                      0\n",
       "request                         0\n",
       "user_agent                  40448\n",
       "ssl_cipher                   8217\n",
       "ssl_protocol                 8217\n",
       "client                          0\n",
       "cport                           0\n",
       "backend                       162\n",
       "bport                         162\n",
       "method                          0\n",
       "url                             0\n",
       "protocol                        0\n",
       "agent_hash                  40448\n",
       "dtype: int64"
      ]
     },
     "execution_count": 5,
     "metadata": {},
     "output_type": "execute_result"
    }
   ],
   "source": [
    "df.isnull().sum(axis=0)"
   ]
  },
  {
   "cell_type": "code",
   "execution_count": 6,
   "metadata": {
    "collapsed": false
   },
   "outputs": [
    {
     "data": {
      "text/html": [
       "<div>\n",
       "<table border=\"1\" class=\"dataframe\">\n",
       "  <thead>\n",
       "    <tr style=\"text-align: right;\">\n",
       "      <th></th>\n",
       "      <th>request_processing_time</th>\n",
       "      <th>backend_processing_time</th>\n",
       "      <th>response_processing_time</th>\n",
       "      <th>elb_status_code</th>\n",
       "      <th>backend_status_code</th>\n",
       "      <th>received_bytes</th>\n",
       "      <th>sent_bytes</th>\n",
       "    </tr>\n",
       "  </thead>\n",
       "  <tbody>\n",
       "    <tr>\n",
       "      <th>count</th>\n",
       "      <td>1158478.000000</td>\n",
       "      <td>1158478.000000</td>\n",
       "      <td>1158478.000000</td>\n",
       "      <td>1158478.000000</td>\n",
       "      <td>1158478.000000</td>\n",
       "      <td>1158478.000000</td>\n",
       "      <td>1158478.000000</td>\n",
       "    </tr>\n",
       "    <tr>\n",
       "      <th>mean</th>\n",
       "      <td>-0.000117</td>\n",
       "      <td>0.033057</td>\n",
       "      <td>-0.000119</td>\n",
       "      <td>216.767441</td>\n",
       "      <td>216.696963</td>\n",
       "      <td>27.533324</td>\n",
       "      <td>5488.199179</td>\n",
       "    </tr>\n",
       "    <tr>\n",
       "      <th>std</th>\n",
       "      <td>0.011825</td>\n",
       "      <td>0.366028</td>\n",
       "      <td>0.011825</td>\n",
       "      <td>42.310138</td>\n",
       "      <td>42.251349</td>\n",
       "      <td>204.494768</td>\n",
       "      <td>15629.474198</td>\n",
       "    </tr>\n",
       "    <tr>\n",
       "      <th>min</th>\n",
       "      <td>-1.000000</td>\n",
       "      <td>-1.000000</td>\n",
       "      <td>-1.000000</td>\n",
       "      <td>200.000000</td>\n",
       "      <td>0.000000</td>\n",
       "      <td>0.000000</td>\n",
       "      <td>0.000000</td>\n",
       "    </tr>\n",
       "    <tr>\n",
       "      <th>25%</th>\n",
       "      <td>0.000021</td>\n",
       "      <td>0.002900</td>\n",
       "      <td>0.000020</td>\n",
       "      <td>200.000000</td>\n",
       "      <td>200.000000</td>\n",
       "      <td>0.000000</td>\n",
       "      <td>213.000000</td>\n",
       "    </tr>\n",
       "    <tr>\n",
       "      <th>50%</th>\n",
       "      <td>0.000023</td>\n",
       "      <td>0.004986</td>\n",
       "      <td>0.000021</td>\n",
       "      <td>200.000000</td>\n",
       "      <td>200.000000</td>\n",
       "      <td>0.000000</td>\n",
       "      <td>709.000000</td>\n",
       "    </tr>\n",
       "    <tr>\n",
       "      <th>75%</th>\n",
       "      <td>0.000024</td>\n",
       "      <td>0.012313</td>\n",
       "      <td>0.000022</td>\n",
       "      <td>200.000000</td>\n",
       "      <td>200.000000</td>\n",
       "      <td>0.000000</td>\n",
       "      <td>9518.000000</td>\n",
       "    </tr>\n",
       "    <tr>\n",
       "      <th>max</th>\n",
       "      <td>0.000151</td>\n",
       "      <td>58.698117</td>\n",
       "      <td>0.001433</td>\n",
       "      <td>504.000000</td>\n",
       "      <td>504.000000</td>\n",
       "      <td>23403.000000</td>\n",
       "      <td>1068957.000000</td>\n",
       "    </tr>\n",
       "  </tbody>\n",
       "</table>\n",
       "</div>"
      ],
      "text/plain": [
       "       request_processing_time  backend_processing_time  \\\n",
       "count           1158478.000000           1158478.000000   \n",
       "mean                 -0.000117                 0.033057   \n",
       "std                   0.011825                 0.366028   \n",
       "min                  -1.000000                -1.000000   \n",
       "25%                   0.000021                 0.002900   \n",
       "50%                   0.000023                 0.004986   \n",
       "75%                   0.000024                 0.012313   \n",
       "max                   0.000151                58.698117   \n",
       "\n",
       "       response_processing_time  elb_status_code  backend_status_code  \\\n",
       "count            1158478.000000   1158478.000000       1158478.000000   \n",
       "mean                  -0.000119       216.767441           216.696963   \n",
       "std                    0.011825        42.310138            42.251349   \n",
       "min                   -1.000000       200.000000             0.000000   \n",
       "25%                    0.000020       200.000000           200.000000   \n",
       "50%                    0.000021       200.000000           200.000000   \n",
       "75%                    0.000022       200.000000           200.000000   \n",
       "max                    0.001433       504.000000           504.000000   \n",
       "\n",
       "       received_bytes      sent_bytes  \n",
       "count  1158478.000000  1158478.000000  \n",
       "mean        27.533324     5488.199179  \n",
       "std        204.494768    15629.474198  \n",
       "min          0.000000        0.000000  \n",
       "25%          0.000000      213.000000  \n",
       "50%          0.000000      709.000000  \n",
       "75%          0.000000     9518.000000  \n",
       "max      23403.000000  1068957.000000  "
      ]
     },
     "execution_count": 6,
     "metadata": {},
     "output_type": "execute_result"
    }
   ],
   "source": [
    "df.describe()"
   ]
  },
  {
   "cell_type": "code",
   "execution_count": 7,
   "metadata": {
    "collapsed": false
   },
   "outputs": [
    {
     "data": {
      "text/plain": [
       "0   2015-07-22 02:40:06.499174\n",
       "1   2015-07-22 02:40:06.632589\n",
       "2   2015-07-22 02:40:06.633226\n",
       "3   2015-07-22 02:40:06.700160\n",
       "4   2015-07-22 02:40:06.734226\n",
       "Name: timestamp, dtype: datetime64[ns]"
      ]
     },
     "execution_count": 7,
     "metadata": {},
     "output_type": "execute_result"
    }
   ],
   "source": [
    "df.timestamp.head(5)"
   ]
  },
  {
   "cell_type": "code",
   "execution_count": 8,
   "metadata": {
    "collapsed": false
   },
   "outputs": [
    {
     "data": {
      "text/plain": [
       "count                        1158478\n",
       "unique                       1158250\n",
       "top       2015-07-22 17:42:50.505759\n",
       "freq                               2\n",
       "first     2015-07-22 02:40:06.499174\n",
       "last      2015-07-22 21:10:27.993803\n",
       "Name: timestamp, dtype: object"
      ]
     },
     "execution_count": 8,
     "metadata": {},
     "output_type": "execute_result"
    }
   ],
   "source": [
    "df.timestamp.describe()"
   ]
  },
  {
   "cell_type": "markdown",
   "metadata": {},
   "source": [
    "#Digression before sessionization: understanding the frequency of requests#"
   ]
  },
  {
   "cell_type": "code",
   "execution_count": 9,
   "metadata": {
    "collapsed": false
   },
   "outputs": [
    {
     "name": "stdout",
     "output_type": "stream",
     "text": [
      "count    1158477.000000\n",
      "mean          57.507827\n",
      "std        17974.259736\n",
      "min            0.000000\n",
      "25%            0.756000\n",
      "50%            1.985000\n",
      "75%            4.298000\n",
      "max      9619058.856000\n",
      "Name: timestamp, dtype: float64\n",
      "\n",
      "1    133.415\n",
      "2      0.637\n",
      "3     66.934\n",
      "4     34.066\n",
      "5     13.831\n",
      "Name: timestamp, dtype: float64\n"
     ]
    }
   ],
   "source": [
    "timestamp_diff = df.timestamp.diff()[1:]\n",
    "timestamp_diff /= np.timedelta64(1, 'ms')\n",
    "print timestamp_diff.describe()\n",
    "print\n",
    "print timestamp_diff.head(5)"
   ]
  },
  {
   "cell_type": "code",
   "execution_count": 10,
   "metadata": {
    "collapsed": false
   },
   "outputs": [
    {
     "name": "stdout",
     "output_type": "stream",
     "text": [
      "(228,)\n",
      "(70468,)\n",
      "\n",
      "552935     0\n",
      "590742     0\n",
      "542134     0\n",
      "299985     0\n",
      "832812     0\n",
      "543125     0\n",
      "442449     0\n",
      "196926     0\n",
      "543135     0\n",
      "1094489    0\n",
      "Name: timestamp, dtype: float64\n",
      "\n",
      "653563     3027618.888\n",
      "954071     3297028.545\n",
      "653711     3898032.325\n",
      "1132229    4795112.811\n",
      "253567     5104284.840\n",
      "1132326    5704847.740\n",
      "89101      5942574.387\n",
      "153568     7216342.806\n",
      "26791      8644030.290\n",
      "653912     9619058.856\n",
      "Name: timestamp, dtype: float64\n"
     ]
    }
   ],
   "source": [
    "timestamp_diff_sorted = timestamp_diff.sort_values()\n",
    "print (timestamp_diff_sorted[timestamp_diff_sorted == 0]).shape\n",
    "print (timestamp_diff_sorted[timestamp_diff_sorted > 10]).shape\n",
    "print\n",
    "print timestamp_diff_sorted.head(10)\n",
    "print\n",
    "print timestamp_diff_sorted.tail(10)"
   ]
  },
  {
   "cell_type": "code",
   "execution_count": 11,
   "metadata": {
    "collapsed": false
   },
   "outputs": [
    {
     "name": "stdout",
     "output_type": "stream",
     "text": [
      "4.6993104 4.30526072 22.2667101 5.5363977 88.07799264 83.29798108 197.26553586 4.43017134 118.85852422 4.37372398\n"
     ]
    },
    {
     "data": {
      "image/png": "[encoded data removed]",
      "text/plain": [
       "<matplotlib.figure.Figure at 0x7f743a32f910>"
      ]
     },
     "metadata": {},
     "output_type": "display_data"
    }
   ],
   "source": [
    "for _ in xrange(10):\n",
    "    d_sample = timestamp_diff.sample(50000)\n",
    "    d_sample.plot.box(showfliers=False, vert=False)\n",
    "    print d_sample.mean(),"
   ]
  },
  {
   "cell_type": "code",
   "execution_count": 12,
   "metadata": {
    "collapsed": false
   },
   "outputs": [
    {
     "data": {
      "text/plain": [
       "<matplotlib.axes._subplots.AxesSubplot at 0x7f7424c08510>"
      ]
     },
     "execution_count": 12,
     "metadata": {},
     "output_type": "execute_result"
    },
    {
     "data": {
      "image/png": "[encoded data removed]",
      "text/plain": [
       "<matplotlib.figure.Figure at 0x7f74247b8d50>"
      ]
     },
     "metadata": {},
     "output_type": "display_data"
    }
   ],
   "source": [
    "# Not so informative\n",
    "\n",
    "d_sample = timestamp_diff.sample(10000)\n",
    "d_sample.plot.hist(bins=100)"
   ]
  },
  {
   "cell_type": "code",
   "execution_count": 13,
   "metadata": {
    "collapsed": false
   },
   "outputs": [
    {
     "data": {
      "image/png": "[encoded data removed]",
      "text/plain": [
       "<matplotlib.figure.Figure at 0x7f7424a8afd0>"
      ]
     },
     "metadata": {},
     "output_type": "display_data"
    },
    {
     "data": {
      "image/png": "[encoded data removed]",
      "text/plain": [
       "<matplotlib.figure.Figure at 0x7f7424a7ec10>"
      ]
     },
     "metadata": {},
     "output_type": "display_data"
    },
    {
     "data": {
      "image/png": "[encoded data removed]",
      "text/plain": [
       "<matplotlib.figure.Figure at 0x7f742466bf10>"
      ]
     },
     "metadata": {},
     "output_type": "display_data"
    },
    {
     "data": {
      "text/plain": [
       "<matplotlib.figure.Figure at 0x7f742460b5d0>"
      ]
     },
     "metadata": {},
     "output_type": "display_data"
    }
   ],
   "source": [
    "intervals = [0, 30, 200, timestamp_diff.max()]\n",
    "for (l, u) in [(intervals[i], intervals[i+1]) for i in xrange(len(intervals) - 1)]:\n",
    "    d_sample[(d_sample >= l) & (d_sample <= u)].plot.hist()\n",
    "    plt.figure()"
   ]
  },
  {
   "cell_type": "markdown",
   "metadata": {},
   "source": [
    "#End of digression#"
   ]
  },
  {
   "cell_type": "code",
   "execution_count": 14,
   "metadata": {
    "collapsed": false
   },
   "outputs": [
    {
     "data": {
      "text/html": [
       "<div>\n",
       "<table border=\"1\" class=\"dataframe\">\n",
       "  <thead>\n",
       "    <tr style=\"text-align: right;\">\n",
       "      <th></th>\n",
       "      <th>timestamp</th>\n",
       "      <th>elb</th>\n",
       "      <th>client:port</th>\n",
       "      <th>backend:port</th>\n",
       "      <th>request_processing_time</th>\n",
       "      <th>backend_processing_time</th>\n",
       "      <th>response_processing_time</th>\n",
       "      <th>elb_status_code</th>\n",
       "      <th>backend_status_code</th>\n",
       "      <th>received_bytes</th>\n",
       "      <th>...</th>\n",
       "      <th>ssl_cipher</th>\n",
       "      <th>ssl_protocol</th>\n",
       "      <th>client</th>\n",
       "      <th>cport</th>\n",
       "      <th>backend</th>\n",
       "      <th>bport</th>\n",
       "      <th>method</th>\n",
       "      <th>url</th>\n",
       "      <th>protocol</th>\n",
       "      <th>agent_hash</th>\n",
       "    </tr>\n",
       "  </thead>\n",
       "  <tbody>\n",
       "    <tr>\n",
       "      <th>0</th>\n",
       "      <td>2015-07-22 02:40:06.499174</td>\n",
       "      <td>marketpalce-shop</td>\n",
       "      <td>106.51.235.133:1813</td>\n",
       "      <td>10.0.6.158:80</td>\n",
       "      <td>0.000020</td>\n",
       "      <td>0.274619</td>\n",
       "      <td>0.000022</td>\n",
       "      <td>200</td>\n",
       "      <td>200</td>\n",
       "      <td>0</td>\n",
       "      <td>...</td>\n",
       "      <td>ECDHE-RSA-AES128-GCM-SHA256</td>\n",
       "      <td>TLSv1.2</td>\n",
       "      <td>106.51.235.133</td>\n",
       "      <td>1813</td>\n",
       "      <td>10.0.6.158</td>\n",
       "      <td>80</td>\n",
       "      <td>GET</td>\n",
       "      <td>https://paytm.com:443/shop/wallet/txnhistory?p...</td>\n",
       "      <td>HTTP/1.1</td>\n",
       "      <td>376956767818a23f320b0ffbb60a9092</td>\n",
       "    </tr>\n",
       "    <tr>\n",
       "      <th>1</th>\n",
       "      <td>2015-07-22 02:40:06.632589</td>\n",
       "      <td>marketpalce-shop</td>\n",
       "      <td>115.250.16.146:63523</td>\n",
       "      <td>10.0.4.227:80</td>\n",
       "      <td>0.000023</td>\n",
       "      <td>0.258738</td>\n",
       "      <td>0.000021</td>\n",
       "      <td>200</td>\n",
       "      <td>200</td>\n",
       "      <td>0</td>\n",
       "      <td>...</td>\n",
       "      <td>ECDHE-RSA-AES128-GCM-SHA256</td>\n",
       "      <td>TLSv1.2</td>\n",
       "      <td>115.250.16.146</td>\n",
       "      <td>63523</td>\n",
       "      <td>10.0.4.227</td>\n",
       "      <td>80</td>\n",
       "      <td>GET</td>\n",
       "      <td>https://paytm.com:443/shop/wallet/balance?chan...</td>\n",
       "      <td>HTTP/1.1</td>\n",
       "      <td>2c9343e055859b90ac580d7b16856af0</td>\n",
       "    </tr>\n",
       "    <tr>\n",
       "      <th>2</th>\n",
       "      <td>2015-07-22 02:40:06.633226</td>\n",
       "      <td>marketpalce-shop</td>\n",
       "      <td>106.51.235.133:1814</td>\n",
       "      <td>10.0.6.108:80</td>\n",
       "      <td>0.000021</td>\n",
       "      <td>0.066167</td>\n",
       "      <td>0.000020</td>\n",
       "      <td>200</td>\n",
       "      <td>200</td>\n",
       "      <td>0</td>\n",
       "      <td>...</td>\n",
       "      <td>ECDHE-RSA-AES128-GCM-SHA256</td>\n",
       "      <td>TLSv1.2</td>\n",
       "      <td>106.51.235.133</td>\n",
       "      <td>1814</td>\n",
       "      <td>10.0.6.108</td>\n",
       "      <td>80</td>\n",
       "      <td>GET</td>\n",
       "      <td>https://paytm.com:443/shop/wallet/balance?chan...</td>\n",
       "      <td>HTTP/1.1</td>\n",
       "      <td>376956767818a23f320b0ffbb60a9092</td>\n",
       "    </tr>\n",
       "    <tr>\n",
       "      <th>3</th>\n",
       "      <td>2015-07-22 02:40:06.700160</td>\n",
       "      <td>marketpalce-shop</td>\n",
       "      <td>52.74.219.71:43898</td>\n",
       "      <td>10.0.4.225:80</td>\n",
       "      <td>0.000020</td>\n",
       "      <td>0.004901</td>\n",
       "      <td>0.000023</td>\n",
       "      <td>200</td>\n",
       "      <td>200</td>\n",
       "      <td>0</td>\n",
       "      <td>...</td>\n",
       "      <td>ECDHE-RSA-AES128-GCM-SHA256</td>\n",
       "      <td>TLSv1.2</td>\n",
       "      <td>52.74.219.71</td>\n",
       "      <td>43898</td>\n",
       "      <td>10.0.4.225</td>\n",
       "      <td>80</td>\n",
       "      <td>GET</td>\n",
       "      <td>https://paytm.com:443/papi/v1/promosearch/prod...</td>\n",
       "      <td>HTTP/1.0</td>\n",
       "      <td>NaN</td>\n",
       "    </tr>\n",
       "    <tr>\n",
       "      <th>4</th>\n",
       "      <td>2015-07-22 02:40:06.734226</td>\n",
       "      <td>marketpalce-shop</td>\n",
       "      <td>27.97.124.172:31421</td>\n",
       "      <td>10.0.6.199:80</td>\n",
       "      <td>0.000024</td>\n",
       "      <td>0.004168</td>\n",
       "      <td>0.000024</td>\n",
       "      <td>200</td>\n",
       "      <td>200</td>\n",
       "      <td>0</td>\n",
       "      <td>...</td>\n",
       "      <td>ECDHE-RSA-AES128-GCM-SHA256</td>\n",
       "      <td>TLSv1.2</td>\n",
       "      <td>27.97.124.172</td>\n",
       "      <td>31421</td>\n",
       "      <td>10.0.6.199</td>\n",
       "      <td>80</td>\n",
       "      <td>GET</td>\n",
       "      <td>https://paytm.com:443/coupons</td>\n",
       "      <td>HTTP/1.1</td>\n",
       "      <td>1549acedb4c775b87d6d4ed430be645d</td>\n",
       "    </tr>\n",
       "  </tbody>\n",
       "</table>\n",
       "<p>5 rows × 23 columns</p>\n",
       "</div>"
      ],
      "text/plain": [
       "                   timestamp               elb           client:port  \\\n",
       "0 2015-07-22 02:40:06.499174  marketpalce-shop   106.51.235.133:1813   \n",
       "1 2015-07-22 02:40:06.632589  marketpalce-shop  115.250.16.146:63523   \n",
       "2 2015-07-22 02:40:06.633226  marketpalce-shop   106.51.235.133:1814   \n",
       "3 2015-07-22 02:40:06.700160  marketpalce-shop    52.74.219.71:43898   \n",
       "4 2015-07-22 02:40:06.734226  marketpalce-shop   27.97.124.172:31421   \n",
       "\n",
       "    backend:port  request_processing_time  backend_processing_time  \\\n",
       "0  10.0.6.158:80                 0.000020                 0.274619   \n",
       "1  10.0.4.227:80                 0.000023                 0.258738   \n",
       "2  10.0.6.108:80                 0.000021                 0.066167   \n",
       "3  10.0.4.225:80                 0.000020                 0.004901   \n",
       "4  10.0.6.199:80                 0.000024                 0.004168   \n",
       "\n",
       "   response_processing_time  elb_status_code  backend_status_code  \\\n",
       "0                  0.000022              200                  200   \n",
       "1                  0.000021              200                  200   \n",
       "2                  0.000020              200                  200   \n",
       "3                  0.000023              200                  200   \n",
       "4                  0.000024              200                  200   \n",
       "\n",
       "   received_bytes                ...                 \\\n",
       "0               0                ...                  \n",
       "1               0                ...                  \n",
       "2               0                ...                  \n",
       "3               0                ...                  \n",
       "4               0                ...                  \n",
       "\n",
       "                    ssl_cipher ssl_protocol          client  cport  \\\n",
       "0  ECDHE-RSA-AES128-GCM-SHA256      TLSv1.2  106.51.235.133   1813   \n",
       "1  ECDHE-RSA-AES128-GCM-SHA256      TLSv1.2  115.250.16.146  63523   \n",
       "2  ECDHE-RSA-AES128-GCM-SHA256      TLSv1.2  106.51.235.133   1814   \n",
       "3  ECDHE-RSA-AES128-GCM-SHA256      TLSv1.2    52.74.219.71  43898   \n",
       "4  ECDHE-RSA-AES128-GCM-SHA256      TLSv1.2   27.97.124.172  31421   \n",
       "\n",
       "      backend bport method                                                url  \\\n",
       "0  10.0.6.158    80    GET  https://paytm.com:443/shop/wallet/txnhistory?p...   \n",
       "1  10.0.4.227    80    GET  https://paytm.com:443/shop/wallet/balance?chan...   \n",
       "2  10.0.6.108    80    GET  https://paytm.com:443/shop/wallet/balance?chan...   \n",
       "3  10.0.4.225    80    GET  https://paytm.com:443/papi/v1/promosearch/prod...   \n",
       "4  10.0.6.199    80    GET                      https://paytm.com:443/coupons   \n",
       "\n",
       "   protocol                        agent_hash  \n",
       "0  HTTP/1.1  376956767818a23f320b0ffbb60a9092  \n",
       "1  HTTP/1.1  2c9343e055859b90ac580d7b16856af0  \n",
       "2  HTTP/1.1  376956767818a23f320b0ffbb60a9092  \n",
       "3  HTTP/1.0                               NaN  \n",
       "4  HTTP/1.1  1549acedb4c775b87d6d4ed430be645d  \n",
       "\n",
       "[5 rows x 23 columns]"
      ]
     },
     "execution_count": 14,
     "metadata": {},
     "output_type": "execute_result"
    }
   ],
   "source": [
    "df.head()"
   ]
  },
  {
   "cell_type": "markdown",
   "metadata": {},
   "source": [
    "#What is a session?#"
   ]
  },
  {
   "cell_type": "code",
   "execution_count": 15,
   "metadata": {
    "collapsed": false
   },
   "outputs": [
    {
     "name": "stdout",
     "output_type": "stream",
     "text": [
      "Number of unique identifiers:\n"
     ]
    },
    {
     "data": {
      "text/html": [
       "<div>\n",
       "<table border=\"1\" class=\"dataframe\">\n",
       "  <thead>\n",
       "    <tr style=\"text-align: right;\">\n",
       "      <th></th>\n",
       "      <th>0</th>\n",
       "      <th>1</th>\n",
       "    </tr>\n",
       "  </thead>\n",
       "  <tbody>\n",
       "    <tr>\n",
       "      <th>0</th>\n",
       "      <td>IP</td>\n",
       "      <td>90544</td>\n",
       "    </tr>\n",
       "    <tr>\n",
       "      <th>1</th>\n",
       "      <td>IP:port</td>\n",
       "      <td>404385</td>\n",
       "    </tr>\n",
       "    <tr>\n",
       "      <th>2</th>\n",
       "      <td>IP &amp; protocol</td>\n",
       "      <td>90595</td>\n",
       "    </tr>\n",
       "    <tr>\n",
       "      <th>3</th>\n",
       "      <td>IP &amp; browser</td>\n",
       "      <td>112594</td>\n",
       "    </tr>\n",
       "    <tr>\n",
       "      <th>4</th>\n",
       "      <td>IP &amp; browser &amp; ssl</td>\n",
       "      <td>116819</td>\n",
       "    </tr>\n",
       "    <tr>\n",
       "      <th>5</th>\n",
       "      <td>IP &amp; protocol &amp; browser &amp; ssl</td>\n",
       "      <td>116823</td>\n",
       "    </tr>\n",
       "  </tbody>\n",
       "</table>\n",
       "</div>"
      ],
      "text/plain": [
       "                               0       1\n",
       "0                             IP   90544\n",
       "1                        IP:port  404385\n",
       "2                  IP & protocol   90595\n",
       "3                   IP & browser  112594\n",
       "4             IP & browser & ssl  116819\n",
       "5  IP & protocol & browser & ssl  116823"
      ]
     },
     "execution_count": 15,
     "metadata": {},
     "output_type": "execute_result"
    }
   ],
   "source": [
    "print 'Number of unique identifiers:'\n",
    "data = [\n",
    "    ['IP', len(df[['client']].drop_duplicates())],\n",
    "    ['IP:port', len(df[['client', 'cport']].drop_duplicates())],\n",
    "    ['IP & protocol', len(df[['client', 'protocol']].drop_duplicates())],\n",
    "    ['IP & browser', len(df[['client', 'agent_hash']].drop_duplicates())],\n",
    "    ['IP & browser & ssl', len(df[['client', 'agent_hash', 'ssl_cipher', 'ssl_protocol']].drop_duplicates())],\n",
    "    ['IP & protocol & browser & ssl', len(df[['client', 'protocol', 'agent_hash', 'ssl_cipher', 'ssl_protocol']].drop_duplicates())]\n",
    "]\n",
    "pd.DataFrame(data)"
   ]
  },
  {
   "cell_type": "markdown",
   "metadata": {},
   "source": [
    "##So it makes sense to attempt identifying users with IP + browser info##"
   ]
  },
  {
   "cell_type": "markdown",
   "metadata": {},
   "source": [
    "#The curious case of client 52.74.219.71#\n",
    "\n",
    "http://ec2-52-74-219-71.ap-southeast-1.compute.amazonaws.com/"
   ]
  },
  {
   "cell_type": "code",
   "execution_count": 16,
   "metadata": {
    "collapsed": false
   },
   "outputs": [
    {
     "data": {
      "text/plain": [
       "52.74.219.71      40633\n",
       "119.81.61.166     32829\n",
       "106.186.23.95     14565\n",
       "54.169.20.106      5538\n",
       "54.169.0.163       5198\n",
       "54.169.164.205     5174\n",
       "112.196.25.164     5127\n",
       "54.169.1.152       4917\n",
       "106.51.132.54      4377\n",
       "54.251.151.39      4003\n",
       "54.169.106.125     3282\n",
       "54.169.136.105     3163\n",
       "52.74.59.227       2866\n",
       "54.251.128.29      2810\n",
       "54.169.64.74       2489\n",
       "54.169.79.96       2242\n",
       "54.169.77.128      2238\n",
       "54.169.78.51       2081\n",
       "54.169.192.103     2031\n",
       "54.169.78.20       1820\n",
       "Name: client, dtype: int64"
      ]
     },
     "execution_count": 16,
     "metadata": {},
     "output_type": "execute_result"
    }
   ],
   "source": [
    "df.client.value_counts().sort_values(ascending=False).head(20)"
   ]
  },
  {
   "cell_type": "code",
   "execution_count": 17,
   "metadata": {
    "collapsed": false
   },
   "outputs": [
    {
     "data": {
      "text/plain": [
       "40633"
      ]
     },
     "execution_count": 17,
     "metadata": {},
     "output_type": "execute_result"
    }
   ],
   "source": [
    "singapore = df[df.client == '52.74.219.71'].copy()\n",
    "singapore.shape[0]"
   ]
  },
  {
   "cell_type": "code",
   "execution_count": 18,
   "metadata": {
    "collapsed": false
   },
   "outputs": [
    {
     "data": {
      "image/png": "[encoded data removed]",
      "text/plain": [
       "<matplotlib.figure.Figure at 0x7f74245adb50>"
      ]
     },
     "metadata": {},
     "output_type": "display_data"
    }
   ],
   "source": [
    "hours = singapore.groupby(singapore.timestamp.dt.hour).apply(lambda g: g.shape[0])\n",
    "ax = hours.reindex(range(0, 23)).plot.bar()\n",
    "_ = ax.set_xlabel('Hour of day')\n",
    "_ = ax.set_ylabel('Number of requests')"
   ]
  },
  {
   "cell_type": "markdown",
   "metadata": {},
   "source": [
    "##9000 = 2.5 requests per second##"
   ]
  },
  {
   "cell_type": "code",
   "execution_count": 19,
   "metadata": {
    "collapsed": false
   },
   "outputs": [
    {
     "name": "stdout",
     "output_type": "stream",
     "text": [
      "Number of unique ports: 21815\n",
      "Number of unique URLs: 26423\n"
     ]
    }
   ],
   "source": [
    "print 'Number of unique ports:', singapore[['cport']].drop_duplicates().shape[0]\n",
    "print 'Number of unique URLs:', singapore.url.unique().shape[0]"
   ]
  },
  {
   "cell_type": "code",
   "execution_count": 20,
   "metadata": {
    "collapsed": false
   },
   "outputs": [
    {
     "data": {
      "text/plain": [
       "10"
      ]
     },
     "execution_count": 20,
     "metadata": {},
     "output_type": "execute_result"
    }
   ],
   "source": [
    "singapore['timediff'] = singapore.timestamp.diff()\n",
    "singapore['new_session'] = (singapore.timediff > np.timedelta64(10, 'm')).astype(int)\n",
    "singapore.new_session.sum()"
   ]
  },
  {
   "cell_type": "markdown",
   "metadata": {},
   "source": [
    "#bots#"
   ]
  },
  {
   "cell_type": "code",
   "execution_count": 21,
   "metadata": {
    "collapsed": false
   },
   "outputs": [
    {
     "data": {
      "text/html": [
       "<div>\n",
       "<table border=\"1\" class=\"dataframe\">\n",
       "  <thead>\n",
       "    <tr style=\"text-align: right;\">\n",
       "      <th></th>\n",
       "      <th>ssl_protocol</th>\n",
       "      <th>ssl_cipher</th>\n",
       "      <th>protocol</th>\n",
       "      <th>user_agent</th>\n",
       "    </tr>\n",
       "  </thead>\n",
       "  <tbody>\n",
       "    <tr>\n",
       "      <th>3</th>\n",
       "      <td>TLSv1.2</td>\n",
       "      <td>ECDHE-RSA-AES128-GCM-SHA256</td>\n",
       "      <td>HTTP/1.0</td>\n",
       "      <td>NaN</td>\n",
       "    </tr>\n",
       "    <tr>\n",
       "      <th>748</th>\n",
       "      <td>TLSv1.2</td>\n",
       "      <td>ECDHE-RSA-AES128-GCM-SHA256</td>\n",
       "      <td>HTTP/1.1</td>\n",
       "      <td>Mozilla/5.0 (compatible; Googlebot/2.1; +http:...</td>\n",
       "    </tr>\n",
       "  </tbody>\n",
       "</table>\n",
       "</div>"
      ],
      "text/plain": [
       "    ssl_protocol                   ssl_cipher  protocol  \\\n",
       "3        TLSv1.2  ECDHE-RSA-AES128-GCM-SHA256  HTTP/1.0   \n",
       "748      TLSv1.2  ECDHE-RSA-AES128-GCM-SHA256  HTTP/1.1   \n",
       "\n",
       "                                            user_agent  \n",
       "3                                                  NaN  \n",
       "748  Mozilla/5.0 (compatible; Googlebot/2.1; +http:...  "
      ]
     },
     "execution_count": 21,
     "metadata": {},
     "output_type": "execute_result"
    }
   ],
   "source": [
    "singapore[['ssl_protocol', 'ssl_cipher', 'protocol', 'user_agent']].drop_duplicates()"
   ]
  },
  {
   "cell_type": "code",
   "execution_count": 22,
   "metadata": {
    "collapsed": false
   },
   "outputs": [
    {
     "name": "stdout",
     "output_type": "stream",
     "text": [
      "Number of bot requests: 25402\n",
      "Number of bot agents: 34\n"
     ]
    },
    {
     "data": {
      "text/html": [
       "<div>\n",
       "<table border=\"1\" class=\"dataframe\">\n",
       "  <thead>\n",
       "    <tr style=\"text-align: right;\">\n",
       "      <th></th>\n",
       "      <th>user_agent</th>\n",
       "    </tr>\n",
       "  </thead>\n",
       "  <tbody>\n",
       "    <tr>\n",
       "      <th>38</th>\n",
       "      <td>Mozilla/5.0 (compatible; bingbot/2.0; +http://...</td>\n",
       "    </tr>\n",
       "    <tr>\n",
       "      <th>159</th>\n",
       "      <td>Slackbot 1.0 (+https://api.slack.com/robots)</td>\n",
       "    </tr>\n",
       "    <tr>\n",
       "      <th>292</th>\n",
       "      <td>Mozilla/5.0 (TweetmemeBot/4.0; +http://datasif...</td>\n",
       "    </tr>\n",
       "    <tr>\n",
       "      <th>342</th>\n",
       "      <td>Pingdom.com_bot_version_1.4_(http://www.pingdo...</td>\n",
       "    </tr>\n",
       "    <tr>\n",
       "      <th>748</th>\n",
       "      <td>Mozilla/5.0 (compatible; Googlebot/2.1; +http:...</td>\n",
       "    </tr>\n",
       "    <tr>\n",
       "      <th>1490</th>\n",
       "      <td>Pingdom.com_bot_version_1.4_(http://www.pingdo...</td>\n",
       "    </tr>\n",
       "    <tr>\n",
       "      <th>1973</th>\n",
       "      <td>Superfeedr bot/2.0 http://superfeedr.com - Mak...</td>\n",
       "    </tr>\n",
       "    <tr>\n",
       "      <th>5455</th>\n",
       "      <td>Mozilla/5.0+(compatible; UptimeRobot/2.0; http...</td>\n",
       "    </tr>\n",
       "    <tr>\n",
       "      <th>17017</th>\n",
       "      <td>Superfeedr bot/2.0 http://superfeedr.com - Mak...</td>\n",
       "    </tr>\n",
       "    <tr>\n",
       "      <th>17494</th>\n",
       "      <td>Mozilla/5.0 (iPhone; CPU iPhone OS 6_0 like Ma...</td>\n",
       "    </tr>\n",
       "    <tr>\n",
       "      <th>26792</th>\n",
       "      <td>Mozilla/5.0 (compatible; YandexBot/3.0; +http:...</td>\n",
       "    </tr>\n",
       "    <tr>\n",
       "      <th>29978</th>\n",
       "      <td>Mozilla/5.0 (compatible; AhrefsBot/5.0; +http:...</td>\n",
       "    </tr>\n",
       "    <tr>\n",
       "      <th>30199</th>\n",
       "      <td>g2reader-bot/1.0 (+http://www.g2reader.com/; 0...</td>\n",
       "    </tr>\n",
       "    <tr>\n",
       "      <th>89262</th>\n",
       "      <td>Mozilla/5.0 (compatible; MJ12bot/v1.4.5; http:...</td>\n",
       "    </tr>\n",
       "    <tr>\n",
       "      <th>93125</th>\n",
       "      <td>Superfeedr bot/2.0 http://superfeedr.com - Mak...</td>\n",
       "    </tr>\n",
       "    <tr>\n",
       "      <th>110447</th>\n",
       "      <td>Superfeedr bot/2.0 http://superfeedr.com - Mak...</td>\n",
       "    </tr>\n",
       "    <tr>\n",
       "      <th>114972</th>\n",
       "      <td>Twitterbot/1.0</td>\n",
       "    </tr>\n",
       "    <tr>\n",
       "      <th>145334</th>\n",
       "      <td>Googlebot-Image/1.0</td>\n",
       "    </tr>\n",
       "    <tr>\n",
       "      <th>190214</th>\n",
       "      <td>robots</td>\n",
       "    </tr>\n",
       "    <tr>\n",
       "      <th>229273</th>\n",
       "      <td>Mozilla/5.0 (iPhone; CPU iPhone OS 7_0 like Ma...</td>\n",
       "    </tr>\n",
       "    <tr>\n",
       "      <th>266925</th>\n",
       "      <td>Slackbot-LinkExpanding 1.0 (+https://api.slack...</td>\n",
       "    </tr>\n",
       "    <tr>\n",
       "      <th>283000</th>\n",
       "      <td>SAMSUNG-SGH-E250/1.0 Profile/MIDP-2.0 Configur...</td>\n",
       "    </tr>\n",
       "    <tr>\n",
       "      <th>333132</th>\n",
       "      <td>Superfeedr bot/2.0 http://superfeedr.com - Mak...</td>\n",
       "    </tr>\n",
       "    <tr>\n",
       "      <th>627684</th>\n",
       "      <td>WeSEE:Ads/PageBot (http://www.wesee.com/bot/)</td>\n",
       "    </tr>\n",
       "    <tr>\n",
       "      <th>683816</th>\n",
       "      <td>DoCoMo/2.0 N905i(c100;TB;W24H16) (compatible; ...</td>\n",
       "    </tr>\n",
       "    <tr>\n",
       "      <th>789379</th>\n",
       "      <td>Mozilla/5.0 (compatible; Linux x86_64; Mail.RU...</td>\n",
       "    </tr>\n",
       "    <tr>\n",
       "      <th>972747</th>\n",
       "      <td>AdsBot-Google (+http://www.google.com/adsbot.h...</td>\n",
       "    </tr>\n",
       "    <tr>\n",
       "      <th>980472</th>\n",
       "      <td>TelegramBot (like TwitterBot)</td>\n",
       "    </tr>\n",
       "    <tr>\n",
       "      <th>984478</th>\n",
       "      <td>Mozilla/5.0 (compatible; bingbot/2.0 +http://w...</td>\n",
       "    </tr>\n",
       "    <tr>\n",
       "      <th>995378</th>\n",
       "      <td>Mozilla/5.0 (compatible; OpenHoseBot/2.1; +htt...</td>\n",
       "    </tr>\n",
       "    <tr>\n",
       "      <th>1017951</th>\n",
       "      <td>Mozilla/5.0 (compatible; PaperLiBot/2.1; http:...</td>\n",
       "    </tr>\n",
       "    <tr>\n",
       "      <th>1059642</th>\n",
       "      <td>Mozilla/5.0 (compatible; special_archiver/3.1....</td>\n",
       "    </tr>\n",
       "    <tr>\n",
       "      <th>1104420</th>\n",
       "      <td>Mozilla/5.0 (X11; U; Linux x86_64; en-US; rv:1...</td>\n",
       "    </tr>\n",
       "    <tr>\n",
       "      <th>1106639</th>\n",
       "      <td>Mozilla/5.0 (compatible; linkdexbot/2.0; +http...</td>\n",
       "    </tr>\n",
       "  </tbody>\n",
       "</table>\n",
       "</div>"
      ],
      "text/plain": [
       "                                                user_agent\n",
       "38       Mozilla/5.0 (compatible; bingbot/2.0; +http://...\n",
       "159           Slackbot 1.0 (+https://api.slack.com/robots)\n",
       "292      Mozilla/5.0 (TweetmemeBot/4.0; +http://datasif...\n",
       "342      Pingdom.com_bot_version_1.4_(http://www.pingdo...\n",
       "748      Mozilla/5.0 (compatible; Googlebot/2.1; +http:...\n",
       "1490     Pingdom.com_bot_version_1.4_(http://www.pingdo...\n",
       "1973     Superfeedr bot/2.0 http://superfeedr.com - Mak...\n",
       "5455     Mozilla/5.0+(compatible; UptimeRobot/2.0; http...\n",
       "17017    Superfeedr bot/2.0 http://superfeedr.com - Mak...\n",
       "17494    Mozilla/5.0 (iPhone; CPU iPhone OS 6_0 like Ma...\n",
       "26792    Mozilla/5.0 (compatible; YandexBot/3.0; +http:...\n",
       "29978    Mozilla/5.0 (compatible; AhrefsBot/5.0; +http:...\n",
       "30199    g2reader-bot/1.0 (+http://www.g2reader.com/; 0...\n",
       "89262    Mozilla/5.0 (compatible; MJ12bot/v1.4.5; http:...\n",
       "93125    Superfeedr bot/2.0 http://superfeedr.com - Mak...\n",
       "110447   Superfeedr bot/2.0 http://superfeedr.com - Mak...\n",
       "114972                                      Twitterbot/1.0\n",
       "145334                                 Googlebot-Image/1.0\n",
       "190214                                              robots\n",
       "229273   Mozilla/5.0 (iPhone; CPU iPhone OS 7_0 like Ma...\n",
       "266925   Slackbot-LinkExpanding 1.0 (+https://api.slack...\n",
       "283000   SAMSUNG-SGH-E250/1.0 Profile/MIDP-2.0 Configur...\n",
       "333132   Superfeedr bot/2.0 http://superfeedr.com - Mak...\n",
       "627684       WeSEE:Ads/PageBot (http://www.wesee.com/bot/)\n",
       "683816   DoCoMo/2.0 N905i(c100;TB;W24H16) (compatible; ...\n",
       "789379   Mozilla/5.0 (compatible; Linux x86_64; Mail.RU...\n",
       "972747   AdsBot-Google (+http://www.google.com/adsbot.h...\n",
       "980472                       TelegramBot (like TwitterBot)\n",
       "984478   Mozilla/5.0 (compatible; bingbot/2.0 +http://w...\n",
       "995378   Mozilla/5.0 (compatible; OpenHoseBot/2.1; +htt...\n",
       "1017951  Mozilla/5.0 (compatible; PaperLiBot/2.1; http:...\n",
       "1059642  Mozilla/5.0 (compatible; special_archiver/3.1....\n",
       "1104420  Mozilla/5.0 (X11; U; Linux x86_64; en-US; rv:1...\n",
       "1106639  Mozilla/5.0 (compatible; linkdexbot/2.0; +http..."
      ]
     },
     "execution_count": 22,
     "metadata": {},
     "output_type": "execute_result"
    }
   ],
   "source": [
    "ua = df.user_agent.astype(str).str\n",
    "bot_requests = df[['user_agent']][ua.contains('bot', case=False)]\n",
    "print 'Number of bot requests:', bot_requests.shape[0]\n",
    "print 'Number of bot agents:', bot_requests.drop_duplicates().shape[0]\n",
    "bot_requests.drop_duplicates()"
   ]
  },
  {
   "cell_type": "markdown",
   "metadata": {},
   "source": [
    "#Action?#\n",
    "\n",
    "1. Delete any request from a user-agent which is a bot? Yes.\n",
    "\n",
    "2. Delete any request from IP with known bot? No. Bots can operating behind the same ISP as legit users.\n",
    "\n",
    "_Side question:_ Singapore? Can we throw away requests from outside India?"
   ]
  },
  {
   "cell_type": "markdown",
   "metadata": {},
   "source": [
    "#Now we sessionize in PySpark#"
   ]
  },
  {
   "cell_type": "code",
   "execution_count": 25,
   "metadata": {
    "collapsed": false
   },
   "outputs": [
    {
     "name": "stdout",
     "output_type": "stream",
     "text": [
      "0\n"
     ]
    }
   ],
   "source": [
    "column_names = 'timestamp elb client:port backend:port request_processing_time backend_processing_time response_processing_time elb_status_code backend_status_code received_bytes sent_bytes request user_agent ssl_cipher ssl_protocol method url protocol client cport'\n",
    "column_names = column_names.split(' ')\n",
    "\n",
    "# Keep track of the number of bad lines in the CSV (lines with incorrect number of fields)\n",
    "n_bad_lines = sc.accumulator(0)\n",
    "correct_n_cols = sc.broadcast(len(column_names))\n",
    "\n",
    "def csv_parse(line):\n",
    "    '''\n",
    "    Parse each line in the CSV file\n",
    "    Return list of fields\n",
    "    '''\n",
    "    global n_bad_lines\n",
    "    try:\n",
    "        parsed_line = next(csv.reader([line], delimiter=' '))\n",
    "        parsed_line[0] = pd.to_datetime(parsed_line[0])\n",
    "        parsed_line += parsed_line[-4].split(' ') # Extract HTTP protocol\n",
    "        parsed_line += parsed_line[2].split(':') # Extract client IP & port\n",
    "        if len(parsed_line) != correct_n_cols.value:\n",
    "            n_bad_lines += 1\n",
    "        return parsed_line\n",
    "    except Exception as e:\n",
    "        print e\n",
    "        return [''] * len(column_names)\n",
    "\n",
    "# Read and parse CSV file. Ignore bad lines\n",
    "log_file = sc.textFile(FILE_LOCATION)\\\n",
    "    .map(csv_parse)\\\n",
    "    .filter(lambda row: len(row) == len(column_names))\\\n",
    "    .cache()\n",
    "\n",
    "print n_bad_lines.value"
   ]
  },
  {
   "cell_type": "code",
   "execution_count": 26,
   "metadata": {
    "collapsed": false
   },
   "outputs": [
    {
     "name": "stdout",
     "output_type": "stream",
     "text": [
      "1158478\n",
      "22\n"
     ]
    }
   ],
   "source": [
    "print log_file.count()\n",
    "print n_bad_lines.value"
   ]
  },
  {
   "cell_type": "code",
   "execution_count": 27,
   "metadata": {
    "collapsed": false
   },
   "outputs": [
    {
     "data": {
      "text/plain": [
       "[[Timestamp('2015-07-22 09:00:28.019143'),\n",
       "  'marketpalce-shop',\n",
       "  '123.242.248.130:54635',\n",
       "  '10.0.6.158:80',\n",
       "  '0.000022',\n",
       "  '0.026109',\n",
       "  '0.00002',\n",
       "  '200',\n",
       "  '200',\n",
       "  '0',\n",
       "  '699',\n",
       "  'GET https://paytm.com:443/shop/authresponse?code=f2405b05-e2ee-4b0d-8f6a-9fed0fcfe2e0&state=null HTTP/1.1',\n",
       "  'Mozilla/5.0 (Windows NT 6.1; WOW64) AppleWebKit/537.36 (KHTML, like Gecko) Chrome/43.0.2357.130 Safari/537.36',\n",
       "  'ECDHE-RSA-AES128-GCM-SHA256',\n",
       "  'TLSv1.2',\n",
       "  'GET',\n",
       "  'https://paytm.com:443/shop/authresponse?code=f2405b05-e2ee-4b0d-8f6a-9fed0fcfe2e0&state=null',\n",
       "  'HTTP/1.1',\n",
       "  '123.242.248.130',\n",
       "  '54635'],\n",
       " [Timestamp('2015-07-22 09:00:27.894580'),\n",
       "  'marketpalce-shop',\n",
       "  '203.91.211.44:51402',\n",
       "  '10.0.4.150:80',\n",
       "  '0.000024',\n",
       "  '0.15334',\n",
       "  '0.000026',\n",
       "  '200',\n",
       "  '200',\n",
       "  '0',\n",
       "  '1497',\n",
       "  'GET https://paytm.com:443/shop/wallet/txnhistory?page_size=10&page_number=0&channel=web&version=2 HTTP/1.1',\n",
       "  'Mozilla/5.0 (Windows NT 6.1; rv:39.0) Gecko/20100101 Firefox/39.0',\n",
       "  'ECDHE-RSA-AES128-GCM-SHA256',\n",
       "  'TLSv1.2',\n",
       "  'GET',\n",
       "  'https://paytm.com:443/shop/wallet/txnhistory?page_size=10&page_number=0&channel=web&version=2',\n",
       "  'HTTP/1.1',\n",
       "  '203.91.211.44',\n",
       "  '51402']]"
      ]
     },
     "execution_count": 27,
     "metadata": {},
     "output_type": "execute_result"
    }
   ],
   "source": [
    "log_file.take(2)"
   ]
  },
  {
   "cell_type": "markdown",
   "metadata": {
    "collapsed": false
   },
   "source": [
    "##Sessionization function (batch)##"
   ]
  },
  {
   "cell_type": "code",
   "execution_count": 28,
   "metadata": {
    "collapsed": false
   },
   "outputs": [],
   "source": [
    "def sessionize(key_request_list, session_limit):   \n",
    "    key = key_request_list[0]\n",
    "    request_list = key_request_list[1].data\n",
    "    # Sort requests by timestamp\n",
    "    request_list.sort(key=lambda x: x[0])\n",
    "    session_list = []\n",
    "\n",
    "    session_counter = 0\n",
    "    session_id = lambda: '%s_%s' % (key, session_counter)\n",
    "    \n",
    "    current_session_id = session_id()\n",
    "    current_length = 0\n",
    "    current_urls = set()\n",
    "    \n",
    "    url = request_list[0][-4]\n",
    "    current_urls.add(url)\n",
    "    \n",
    "    for i in xrange(1, len(request_list)):\n",
    "        url = request_list[i][-4]\n",
    "        duration = (request_list[i][0] - request_list[i-1][0]).total_seconds()\n",
    "        if duration <= session_limit:\n",
    "            current_length += duration\n",
    "            current_urls.add(url)\n",
    "        else:\n",
    "            session_list.append((current_session_id, (current_length, current_urls)))\n",
    "            session_counter += 1\n",
    "            current_session_id = session_id()\n",
    "            current_length = 0\n",
    "            current_urls = set(url)\n",
    "\n",
    "    session_list.append((current_session_id, (current_length, current_urls)))\n",
    "\n",
    "    return session_list"
   ]
  },
  {
   "cell_type": "code",
   "execution_count": 29,
   "metadata": {
    "collapsed": false
   },
   "outputs": [],
   "source": [
    "SESSION_LIMIT = 15*60\n",
    "\n",
    "# Group request by IP\n",
    "requests_by_ip = log_file.groupBy(lambda l: l[-2])\n",
    "\n",
    "# Convert each group into a list of sessions\n",
    "sessions = requests_by_ip.flatMap(lambda kv: sessionize(kv, SESSION_LIMIT)).cache()"
   ]
  },
  {
   "cell_type": "markdown",
   "metadata": {},
   "source": [
    "###Collect sessions for analysis###"
   ]
  },
  {
   "cell_type": "code",
   "execution_count": 30,
   "metadata": {
    "collapsed": false
   },
   "outputs": [
    {
     "data": {
      "text/plain": [
       "[('111.93.191.38_0',\n",
       "  (97.14414800000002,\n",
       "   {'https://paytm.com:443/shop/authresponse?code=cb99c680-ba4c-40e5-b460-3b9128a5a7b9',\n",
       "    'https://paytm.com:443/shop/cart',\n",
       "    'https://paytm.com:443/shop/cart/checkout?channel=web&version=2',\n",
       "    'https://paytm.com:443/shop/cart?channel=web&version=2',\n",
       "    'https://paytm.com:443/shop/login?isIframe=true&theme=mp-web',\n",
       "    'https://paytm.com:443/shop/user/address',\n",
       "    'https://paytm.com:443/shop/user/address?channel=web&version=2',\n",
       "    'https://paytm.com:443/shop/v1/frequentorders?channel=web&version=2'}))]"
      ]
     },
     "execution_count": 30,
     "metadata": {},
     "output_type": "execute_result"
    }
   ],
   "source": [
    "sessions.take(1)"
   ]
  },
  {
   "cell_type": "code",
   "execution_count": 31,
   "metadata": {
    "collapsed": false
   },
   "outputs": [
    {
     "name": "stdout",
     "output_type": "stream",
     "text": [
      "Number of sessions: 110838\n"
     ]
    }
   ],
   "source": [
    "data = sessions.map(lambda kv: (kv[0], kv[0].split('_')[0], kv[1][0], kv[1][1])).collect()\n",
    "session_summary = pd.DataFrame(data, columns=['session_id', 'ip', 'seconds', 'urls'])\n",
    "print 'Number of sessions:', session_summary.shape[0]\n",
    "session_summary.sort_values(by='seconds', ascending=False, inplace=True)\n",
    "session_summary['readable_length'] = session_summary.seconds.map(lambda x: pd.Timedelta(x, 's'))\n",
    "session_summary['n_urls'] = session_summary['urls'].map(len)"
   ]
  },
  {
   "cell_type": "code",
   "execution_count": 32,
   "metadata": {
    "collapsed": false
   },
   "outputs": [
    {
     "data": {
      "text/html": [
       "<div>\n",
       "<table border=\"1\" class=\"dataframe\">\n",
       "  <thead>\n",
       "    <tr style=\"text-align: right;\">\n",
       "      <th></th>\n",
       "      <th>session_id</th>\n",
       "      <th>ip</th>\n",
       "      <th>seconds</th>\n",
       "      <th>urls</th>\n",
       "      <th>readable_length</th>\n",
       "      <th>n_urls</th>\n",
       "    </tr>\n",
       "  </thead>\n",
       "  <tbody>\n",
       "    <tr>\n",
       "      <th>4944</th>\n",
       "      <td>52.74.219.71_4</td>\n",
       "      <td>52.74.219.71</td>\n",
       "      <td>2069.161909</td>\n",
       "      <td>{https://paytm.com:443/shop/p/yonex-carbonex-6...</td>\n",
       "      <td>00:34:29.161909</td>\n",
       "      <td>9573</td>\n",
       "    </tr>\n",
       "    <tr>\n",
       "      <th>86073</th>\n",
       "      <td>119.81.61.166_4</td>\n",
       "      <td>119.81.61.166</td>\n",
       "      <td>2068.848450</td>\n",
       "      <td>{https://paytm.com:443/papi//v1/promosearch/pr...</td>\n",
       "      <td>00:34:28.848450</td>\n",
       "      <td>1770</td>\n",
       "    </tr>\n",
       "    <tr>\n",
       "      <th>96289</th>\n",
       "      <td>106.186.23.95_4</td>\n",
       "      <td>106.186.23.95</td>\n",
       "      <td>2068.756402</td>\n",
       "      <td>{https://paytm.com:443/papi/v1/promosearch/pro...</td>\n",
       "      <td>00:34:28.756402</td>\n",
       "      <td>2763</td>\n",
       "    </tr>\n",
       "    <tr>\n",
       "      <th>20962</th>\n",
       "      <td>125.19.44.66_4</td>\n",
       "      <td>125.19.44.66</td>\n",
       "      <td>2068.712470</td>\n",
       "      <td>{https://paytm.com:443/shop/orderdetail/111659...</td>\n",
       "      <td>00:34:28.712470</td>\n",
       "      <td>488</td>\n",
       "    </tr>\n",
       "    <tr>\n",
       "      <th>93286</th>\n",
       "      <td>125.20.39.66_3</td>\n",
       "      <td>125.20.39.66</td>\n",
       "      <td>2068.320635</td>\n",
       "      <td>{https://paytm.com:443/papi/rr/products/535608...</td>\n",
       "      <td>00:34:28.320635</td>\n",
       "      <td>255</td>\n",
       "    </tr>\n",
       "    <tr>\n",
       "      <th>69603</th>\n",
       "      <td>192.8.190.10_2</td>\n",
       "      <td>192.8.190.10</td>\n",
       "      <td>2067.234329</td>\n",
       "      <td>{https://paytm.com:443/papi/rr/products/287399...</td>\n",
       "      <td>00:34:27.234329</td>\n",
       "      <td>142</td>\n",
       "    </tr>\n",
       "    <tr>\n",
       "      <th>108129</th>\n",
       "      <td>54.251.151.39_4</td>\n",
       "      <td>54.251.151.39</td>\n",
       "      <td>2067.022968</td>\n",
       "      <td>{a, c, https://paytm.com:443/blog/wp-cron.php?...</td>\n",
       "      <td>00:34:27.022968</td>\n",
       "      <td>21</td>\n",
       "    </tr>\n",
       "    <tr>\n",
       "      <th>72531</th>\n",
       "      <td>180.211.69.209_3</td>\n",
       "      <td>180.211.69.209</td>\n",
       "      <td>2066.960642</td>\n",
       "      <td>{https://paytm.com:443/scripts/paytmAd.js, htt...</td>\n",
       "      <td>00:34:26.960642</td>\n",
       "      <td>89</td>\n",
       "    </tr>\n",
       "    <tr>\n",
       "      <th>35128</th>\n",
       "      <td>180.179.213.70_4</td>\n",
       "      <td>180.179.213.70</td>\n",
       "      <td>2065.637990</td>\n",
       "      <td>{http://paytm.com:80/shop/p/lenovo-idea-tab-a1...</td>\n",
       "      <td>00:34:25.637990</td>\n",
       "      <td>160</td>\n",
       "    </tr>\n",
       "    <tr>\n",
       "      <th>55236</th>\n",
       "      <td>203.189.176.14_4</td>\n",
       "      <td>203.189.176.14</td>\n",
       "      <td>2065.594344</td>\n",
       "      <td>{https://paytm.com:443/papi/rr/products/128192...</td>\n",
       "      <td>00:34:25.594344</td>\n",
       "      <td>78</td>\n",
       "    </tr>\n",
       "  </tbody>\n",
       "</table>\n",
       "</div>"
      ],
      "text/plain": [
       "              session_id              ip      seconds  \\\n",
       "4944      52.74.219.71_4    52.74.219.71  2069.161909   \n",
       "86073    119.81.61.166_4   119.81.61.166  2068.848450   \n",
       "96289    106.186.23.95_4   106.186.23.95  2068.756402   \n",
       "20962     125.19.44.66_4    125.19.44.66  2068.712470   \n",
       "93286     125.20.39.66_3    125.20.39.66  2068.320635   \n",
       "69603     192.8.190.10_2    192.8.190.10  2067.234329   \n",
       "108129   54.251.151.39_4   54.251.151.39  2067.022968   \n",
       "72531   180.211.69.209_3  180.211.69.209  2066.960642   \n",
       "35128   180.179.213.70_4  180.179.213.70  2065.637990   \n",
       "55236   203.189.176.14_4  203.189.176.14  2065.594344   \n",
       "\n",
       "                                                     urls  readable_length  \\\n",
       "4944    {https://paytm.com:443/shop/p/yonex-carbonex-6...  00:34:29.161909   \n",
       "86073   {https://paytm.com:443/papi//v1/promosearch/pr...  00:34:28.848450   \n",
       "96289   {https://paytm.com:443/papi/v1/promosearch/pro...  00:34:28.756402   \n",
       "20962   {https://paytm.com:443/shop/orderdetail/111659...  00:34:28.712470   \n",
       "93286   {https://paytm.com:443/papi/rr/products/535608...  00:34:28.320635   \n",
       "69603   {https://paytm.com:443/papi/rr/products/287399...  00:34:27.234329   \n",
       "108129  {a, c, https://paytm.com:443/blog/wp-cron.php?...  00:34:27.022968   \n",
       "72531   {https://paytm.com:443/scripts/paytmAd.js, htt...  00:34:26.960642   \n",
       "35128   {http://paytm.com:80/shop/p/lenovo-idea-tab-a1...  00:34:25.637990   \n",
       "55236   {https://paytm.com:443/papi/rr/products/128192...  00:34:25.594344   \n",
       "\n",
       "        n_urls  \n",
       "4944      9573  \n",
       "86073     1770  \n",
       "96289     2763  \n",
       "20962      488  \n",
       "93286      255  \n",
       "69603      142  \n",
       "108129      21  \n",
       "72531       89  \n",
       "35128      160  \n",
       "55236       78  "
      ]
     },
     "execution_count": 32,
     "metadata": {},
     "output_type": "execute_result"
    }
   ],
   "source": [
    "session_summary.head(10)"
   ]
  },
  {
   "cell_type": "markdown",
   "metadata": {},
   "source": [
    "##Average Session length##"
   ]
  },
  {
   "cell_type": "markdown",
   "metadata": {},
   "source": [
    "###In Spark###"
   ]
  },
  {
   "cell_type": "code",
   "execution_count": 33,
   "metadata": {
    "collapsed": false
   },
   "outputs": [
    {
     "data": {
      "text/plain": [
       "100.72750948187446"
      ]
     },
     "execution_count": 33,
     "metadata": {},
     "output_type": "execute_result"
    }
   ],
   "source": [
    "sessions.map(lambda kv: kv[1][0]).mean()"
   ]
  },
  {
   "cell_type": "markdown",
   "metadata": {},
   "source": [
    "###In Pandas###"
   ]
  },
  {
   "cell_type": "code",
   "execution_count": 34,
   "metadata": {
    "collapsed": false
   },
   "outputs": [
    {
     "data": {
      "text/plain": [
       "count                    110838\n",
       "mean     0 days 00:01:40.727509\n",
       "std      0 days 00:03:49.883921\n",
       "min             0 days 00:00:00\n",
       "25%      0 days 00:00:00.713340\n",
       "50%      0 days 00:00:19.204106\n",
       "75%      0 days 00:01:41.088087\n",
       "max      0 days 00:34:29.161909\n",
       "Name: readable_length, dtype: object"
      ]
     },
     "execution_count": 34,
     "metadata": {},
     "output_type": "execute_result"
    }
   ],
   "source": [
    "session_summary.readable_length.describe()"
   ]
  },
  {
   "cell_type": "markdown",
   "metadata": {},
   "source": [
    "##Most engaged users (IPs with longest sessions)##"
   ]
  },
  {
   "cell_type": "code",
   "execution_count": 35,
   "metadata": {
    "collapsed": false
   },
   "outputs": [
    {
     "data": {
      "text/plain": [
       "ip\n",
       "52.74.219.71      2069.161909\n",
       "119.81.61.166     2068.848450\n",
       "106.186.23.95     2068.756402\n",
       "125.19.44.66      2068.712470\n",
       "125.20.39.66      2068.320635\n",
       "192.8.190.10      2067.234329\n",
       "54.251.151.39     2067.022968\n",
       "180.211.69.209    2066.960642\n",
       "180.179.213.70    2065.637990\n",
       "203.189.176.14    2065.594344\n",
       "Name: seconds, dtype: float64"
      ]
     },
     "execution_count": 35,
     "metadata": {},
     "output_type": "execute_result"
    }
   ],
   "source": [
    "ip_max_session = session_summary.groupby('ip')['seconds'].max()\n",
    "ip_max_session.sort_values(ascending=False).head(10)"
   ]
  },
  {
   "cell_type": "code",
   "execution_count": null,
   "metadata": {
    "collapsed": true
   },
   "outputs": [],
   "source": []
  }
 ],
 "metadata": {
  "kernelspec": {
   "display_name": "Python 2",
   "language": "python",
   "name": "python2"
  },
  "language_info": {
   "codemirror_mode": {
    "name": "ipython",
    "version": 2
   },
   "file_extension": ".py",
   "mimetype": "text/x-python",
   "name": "python",
   "nbconvert_exporter": "python",
   "pygments_lexer": "ipython2",
   "version": "2.7.10"
  }
 },
 "nbformat": 4,
 "nbformat_minor": 0
}
